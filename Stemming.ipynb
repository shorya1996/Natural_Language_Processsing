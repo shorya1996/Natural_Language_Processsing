{
 "cells": [
  {
   "cell_type": "code",
   "execution_count": 1,
   "metadata": {},
   "outputs": [],
   "source": [
    "import nltk"
   ]
  },
  {
   "cell_type": "code",
   "execution_count": 2,
   "metadata": {},
   "outputs": [],
   "source": [
    "paragraph = \"\"\"Making The Revenant was about man's relationship with the natural world,\" DiCaprio said. \"A world that we collectively felt in 2015 was the hottest year in recorded history. Our production team needed to go to the southern tip of this planet just to be able to find snow; climate change is real, and it's happening right now. It is the most urgent threat facing our entire species and we need to work together and stop procrastinating. We need to support leaders around the world who do not speak for the big polluters or the big corporations, but who speak for all of humanity; and for the indigenous people of the world; for the billions and billions of underprivileged people who will be most affected by this; for our children's children; and for all the people out there whose voices have been drowned out by the politics of greed. Let us not take this planet for granted; I do not take tonight for granted.\"\"\""
   ]
  },
  {
   "cell_type": "code",
   "execution_count": 3,
   "metadata": {},
   "outputs": [],
   "source": [
    "from nltk.stem import PorterStemmer"
   ]
  },
  {
   "cell_type": "code",
   "execution_count": 4,
   "metadata": {},
   "outputs": [],
   "source": [
    "sentences = nltk.sent_tokenize(paragraph)"
   ]
  },
  {
   "cell_type": "code",
   "execution_count": 5,
   "metadata": {},
   "outputs": [],
   "source": [
    "stemmer = PorterStemmer()"
   ]
  },
  {
   "cell_type": "code",
   "execution_count": 7,
   "metadata": {},
   "outputs": [],
   "source": [
    "for i in range(len(sentences)):\n",
    "    words = nltk.word_tokenize(sentences[i])\n",
    "    newwords = [stemmer.stem(word) for word in words]\n",
    "    sentences[i]= ' '.join(newwords)"
   ]
  },
  {
   "cell_type": "code",
   "execution_count": 8,
   "metadata": {},
   "outputs": [
    {
     "data": {
      "text/plain": [
       "['Let',\n",
       " 'us',\n",
       " 'not',\n",
       " 'take',\n",
       " 'this',\n",
       " 'planet',\n",
       " 'for',\n",
       " 'granted',\n",
       " ';',\n",
       " 'I',\n",
       " 'do',\n",
       " 'not',\n",
       " 'take',\n",
       " 'tonight',\n",
       " 'for',\n",
       " 'granted',\n",
       " '.']"
      ]
     },
     "execution_count": 8,
     "metadata": {},
     "output_type": "execute_result"
    }
   ],
   "source": [
    "words"
   ]
  },
  {
   "cell_type": "code",
   "execution_count": 9,
   "metadata": {},
   "outputs": [
    {
     "data": {
      "text/plain": [
       "['let',\n",
       " 'us',\n",
       " 'not',\n",
       " 'take',\n",
       " 'thi',\n",
       " 'planet',\n",
       " 'for',\n",
       " 'grant',\n",
       " ';',\n",
       " 'I',\n",
       " 'do',\n",
       " 'not',\n",
       " 'take',\n",
       " 'tonight',\n",
       " 'for',\n",
       " 'grant',\n",
       " '.']"
      ]
     },
     "execution_count": 9,
     "metadata": {},
     "output_type": "execute_result"
    }
   ],
   "source": [
    "newwords"
   ]
  },
  {
   "cell_type": "code",
   "execution_count": 10,
   "metadata": {},
   "outputs": [
    {
     "data": {
      "text/plain": [
       "[\"make the reven wa about man 's relationship with the natur world , '' dicaprio said .\",\n",
       " '`` A world that we collect felt in 2015 wa the hottest year in record histori .',\n",
       " \"our product team need to go to the southern tip of thi planet just to be abl to find snow ; climat chang is real , and it 's happen right now .\",\n",
       " 'It is the most urgent threat face our entir speci and we need to work togeth and stop procrastin .',\n",
       " \"We need to support leader around the world who do not speak for the big pollut or the big corpor , but who speak for all of human ; and for the indigen peopl of the world ; for the billion and billion of underprivileg peopl who will be most affect by thi ; for our children 's children ; and for all the peopl out there whose voic have been drown out by the polit of greed .\",\n",
       " 'let us not take thi planet for grant ; I do not take tonight for grant .']"
      ]
     },
     "execution_count": 10,
     "metadata": {},
     "output_type": "execute_result"
    }
   ],
   "source": [
    "sentences"
   ]
  },
  {
   "cell_type": "code",
   "execution_count": null,
   "metadata": {},
   "outputs": [],
   "source": []
  }
 ],
 "metadata": {
  "kernelspec": {
   "display_name": "Python 3",
   "language": "python",
   "name": "python3"
  },
  "language_info": {
   "codemirror_mode": {
    "name": "ipython",
    "version": 3
   },
   "file_extension": ".py",
   "mimetype": "text/x-python",
   "name": "python",
   "nbconvert_exporter": "python",
   "pygments_lexer": "ipython3",
   "version": "3.6.5"
  }
 },
 "nbformat": 4,
 "nbformat_minor": 2
}
