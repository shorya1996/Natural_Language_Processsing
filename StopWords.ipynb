{
 "cells": [
  {
   "cell_type": "code",
   "execution_count": 19,
   "metadata": {},
   "outputs": [],
   "source": [
    "import nltk"
   ]
  },
  {
   "cell_type": "code",
   "execution_count": 20,
   "metadata": {},
   "outputs": [],
   "source": [
    "from nltk.corpus import stopwords"
   ]
  },
  {
   "cell_type": "code",
   "execution_count": 21,
   "metadata": {},
   "outputs": [],
   "source": [
    "paragraph = \"\"\"Making The Revenant was about man's relationship with the natural world,\" DiCaprio said. \"A world that we collectively felt in 2015 was the hottest year in recorded history. Our production team needed to go to the southern tip of this planet just to be able to find snow; climate change is real, and it's happening right now. It is the most urgent threat facing our entire species and we need to work together and stop procrastinating. We need to support leaders around the world who do not speak for the big polluters or the big corporations, but who speak for all of humanity; and for the indigenous people of the world; for the billions and billions of underprivileged people who will be most affected by this; for our children's children; and for all the people out there whose voices have been drowned out by the politics of greed. Let us not take this planet for granted; I do not take tonight for granted.\"\"\""
   ]
  },
  {
   "cell_type": "code",
   "execution_count": 22,
   "metadata": {},
   "outputs": [],
   "source": [
    "sentences = nltk.sent_tokenize(paragraph)"
   ]
  },
  {
   "cell_type": "code",
   "execution_count": 23,
   "metadata": {},
   "outputs": [
    {
     "data": {
      "text/plain": [
       "['Making The Revenant was about man\\'s relationship with the natural world,\" DiCaprio said.',\n",
       " '\"A world that we collectively felt in 2015 was the hottest year in recorded history.',\n",
       " \"Our production team needed to go to the southern tip of this planet just to be able to find snow; climate change is real, and it's happening right now.\",\n",
       " 'It is the most urgent threat facing our entire species and we need to work together and stop procrastinating.',\n",
       " \"We need to support leaders around the world who do not speak for the big polluters or the big corporations, but who speak for all of humanity; and for the indigenous people of the world; for the billions and billions of underprivileged people who will be most affected by this; for our children's children; and for all the people out there whose voices have been drowned out by the politics of greed.\",\n",
       " 'Let us not take this planet for granted; I do not take tonight for granted.']"
      ]
     },
     "execution_count": 23,
     "metadata": {},
     "output_type": "execute_result"
    }
   ],
   "source": [
    "sentences"
   ]
  },
  {
   "cell_type": "code",
   "execution_count": 24,
   "metadata": {},
   "outputs": [],
   "source": [
    "for i in range(len(sentences)):\n",
    "    words = nltk.word_tokenize(sentences[i])\n",
    "    newwords = [word for word in words if word not in stopwords.words('english')]\n",
    "    sentences[i]= ' '.join(newwords)"
   ]
  },
  {
   "cell_type": "code",
   "execution_count": 25,
   "metadata": {},
   "outputs": [
    {
     "data": {
      "text/plain": [
       "['Let',\n",
       " 'us',\n",
       " 'not',\n",
       " 'take',\n",
       " 'this',\n",
       " 'planet',\n",
       " 'for',\n",
       " 'granted',\n",
       " ';',\n",
       " 'I',\n",
       " 'do',\n",
       " 'not',\n",
       " 'take',\n",
       " 'tonight',\n",
       " 'for',\n",
       " 'granted',\n",
       " '.']"
      ]
     },
     "execution_count": 25,
     "metadata": {},
     "output_type": "execute_result"
    }
   ],
   "source": [
    "words"
   ]
  },
  {
   "cell_type": "code",
   "execution_count": 26,
   "metadata": {},
   "outputs": [
    {
     "data": {
      "text/plain": [
       "['Let',\n",
       " 'us',\n",
       " 'take',\n",
       " 'planet',\n",
       " 'granted',\n",
       " ';',\n",
       " 'I',\n",
       " 'take',\n",
       " 'tonight',\n",
       " 'granted',\n",
       " '.']"
      ]
     },
     "execution_count": 26,
     "metadata": {},
     "output_type": "execute_result"
    }
   ],
   "source": [
    "newwords"
   ]
  },
  {
   "cell_type": "code",
   "execution_count": 27,
   "metadata": {},
   "outputs": [
    {
     "data": {
      "text/plain": [
       "[\"Making The Revenant man 's relationship natural world , '' DiCaprio said .\",\n",
       " '`` A world collectively felt 2015 hottest year recorded history .',\n",
       " \"Our production team needed go southern tip planet able find snow ; climate change real , 's happening right .\",\n",
       " 'It urgent threat facing entire species need work together stop procrastinating .',\n",
       " \"We need support leaders around world speak big polluters big corporations , speak humanity ; indigenous people world ; billions billions underprivileged people affected ; children 's children ; people whose voices drowned politics greed .\",\n",
       " 'Let us take planet granted ; I take tonight granted .']"
      ]
     },
     "execution_count": 27,
     "metadata": {},
     "output_type": "execute_result"
    }
   ],
   "source": [
    "sentences"
   ]
  },
  {
   "cell_type": "code",
   "execution_count": null,
   "metadata": {},
   "outputs": [],
   "source": []
  }
 ],
 "metadata": {
  "kernelspec": {
   "display_name": "Python 3",
   "language": "python",
   "name": "python3"
  },
  "language_info": {
   "codemirror_mode": {
    "name": "ipython",
    "version": 3
   },
   "file_extension": ".py",
   "mimetype": "text/x-python",
   "name": "python",
   "nbconvert_exporter": "python",
   "pygments_lexer": "ipython3",
   "version": "3.6.5"
  }
 },
 "nbformat": 4,
 "nbformat_minor": 2
}
