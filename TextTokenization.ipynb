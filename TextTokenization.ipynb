{
 "cells": [
  {
   "cell_type": "code",
   "execution_count": 1,
   "metadata": {},
   "outputs": [],
   "source": [
    "import nltk"
   ]
  },
  {
   "cell_type": "code",
   "execution_count": 2,
   "metadata": {},
   "outputs": [],
   "source": [
    "paragraph = \"\"\"Making The Revenant was about man's relationship with the natural world,\" DiCaprio said. \"A world that we collectively felt in 2015 was the hottest year in recorded history. Our production team needed to go to the southern tip of this planet just to be able to find snow; climate change is real, and it's happening right now. It is the most urgent threat facing our entire species and we need to work together and stop procrastinating. We need to support leaders around the world who do not speak for the big polluters or the big corporations, but who speak for all of humanity; and for the indigenous people of the world; for the billions and billions of underprivileged people who will be most affected by this; for our children's children; and for all the people out there whose voices have been drowned out by the politics of greed. Let us not take this planet for granted; I do not take tonight for granted.\"\"\""
   ]
  },
  {
   "cell_type": "code",
   "execution_count": 3,
   "metadata": {},
   "outputs": [],
   "source": [
    "sentences = nltk.sent_tokenize(paragraph)"
   ]
  },
  {
   "cell_type": "code",
   "execution_count": 13,
   "metadata": {},
   "outputs": [
    {
     "data": {
      "text/plain": [
       "[\"Making The Revenant wa about man 's relationship with the natural world , '' DiCaprio said .\",\n",
       " '`` A world that we collectively felt in 2015 wa the hottest year in recorded history .',\n",
       " \"Our production team needed to go to the southern tip of this planet just to be able to find snow ; climate change is real , and it 's happening right now .\",\n",
       " 'It is the most urgent threat facing our entire specie and we need to work together and stop procrastinating .',\n",
       " \"We need to support leader around the world who do not speak for the big polluter or the big corporation , but who speak for all of humanity ; and for the indigenous people of the world ; for the billion and billion of underprivileged people who will be most affected by this ; for our child 's child ; and for all the people out there whose voice have been drowned out by the politics of greed .\",\n",
       " 'Let u not take this planet for granted ; I do not take tonight for granted .']"
      ]
     },
     "execution_count": 13,
     "metadata": {},
     "output_type": "execute_result"
    }
   ],
   "source": [
    "sentences"
   ]
  },
  {
   "cell_type": "code",
   "execution_count": 8,
   "metadata": {},
   "outputs": [
    {
     "data": {
      "text/plain": [
       "6"
      ]
     },
     "execution_count": 8,
     "metadata": {},
     "output_type": "execute_result"
    }
   ],
   "source": [
    "len(sentences)"
   ]
  },
  {
   "cell_type": "code",
   "execution_count": 5,
   "metadata": {},
   "outputs": [],
   "source": [
    "words = nltk.word_tokenize(paragraph)"
   ]
  },
  {
   "cell_type": "code",
   "execution_count": null,
   "metadata": {},
   "outputs": [],
   "source": []
  },
  {
   "cell_type": "code",
   "execution_count": 15,
   "metadata": {},
   "outputs": [
    {
     "data": {
      "text/plain": [
       "['Let',\n",
       " 'us',\n",
       " 'not',\n",
       " 'take',\n",
       " 'this',\n",
       " 'planet',\n",
       " 'for',\n",
       " 'granted',\n",
       " ';',\n",
       " 'I',\n",
       " 'do',\n",
       " 'not',\n",
       " 'take',\n",
       " 'tonight',\n",
       " 'for',\n",
       " 'granted',\n",
       " '.']"
      ]
     },
     "execution_count": 15,
     "metadata": {},
     "output_type": "execute_result"
    }
   ],
   "source": [
    "words"
   ]
  },
  {
   "cell_type": "code",
   "execution_count": 7,
   "metadata": {},
   "outputs": [
    {
     "data": {
      "text/plain": [
       "183"
      ]
     },
     "execution_count": 7,
     "metadata": {},
     "output_type": "execute_result"
    }
   ],
   "source": [
    "len(words)"
   ]
  },
  {
   "cell_type": "code",
   "execution_count": 9,
   "metadata": {},
   "outputs": [],
   "source": [
    "from nltk.stem import WordNetLemmatizer\n"
   ]
  },
  {
   "cell_type": "code",
   "execution_count": 10,
   "metadata": {},
   "outputs": [],
   "source": [
    "lemmatizer = WordNetLemmatizer()"
   ]
  },
  {
   "cell_type": "code",
   "execution_count": 11,
   "metadata": {},
   "outputs": [],
   "source": [
    "for i in range(len(sentences)):\n",
    "    words = nltk.word_tokenize(sentences[i])\n",
    "    newwords = [lemmatizer.lemmatize(word) for word in words]\n",
    "    sentences[i]= ' '.join(newwords)"
   ]
  },
  {
   "cell_type": "code",
   "execution_count": 18,
   "metadata": {},
   "outputs": [
    {
     "data": {
      "text/plain": [
       "['Let',\n",
       " 'us',\n",
       " 'not',\n",
       " 'take',\n",
       " 'this',\n",
       " 'planet',\n",
       " 'for',\n",
       " 'granted',\n",
       " ';',\n",
       " 'I',\n",
       " 'do',\n",
       " 'not',\n",
       " 'take',\n",
       " 'tonight',\n",
       " 'for',\n",
       " 'granted',\n",
       " '.']"
      ]
     },
     "execution_count": 18,
     "metadata": {},
     "output_type": "execute_result"
    }
   ],
   "source": [
    "words"
   ]
  },
  {
   "cell_type": "code",
   "execution_count": 17,
   "metadata": {},
   "outputs": [
    {
     "data": {
      "text/plain": [
       "[\"Making The Revenant wa about man 's relationship with the natural world , '' DiCaprio said .\",\n",
       " '`` A world that we collectively felt in 2015 wa the hottest year in recorded history .',\n",
       " \"Our production team needed to go to the southern tip of this planet just to be able to find snow ; climate change is real , and it 's happening right now .\",\n",
       " 'It is the most urgent threat facing our entire specie and we need to work together and stop procrastinating .',\n",
       " \"We need to support leader around the world who do not speak for the big polluter or the big corporation , but who speak for all of humanity ; and for the indigenous people of the world ; for the billion and billion of underprivileged people who will be most affected by this ; for our child 's child ; and for all the people out there whose voice have been drowned out by the politics of greed .\",\n",
       " 'Let u not take this planet for granted ; I do not take tonight for granted .']"
      ]
     },
     "execution_count": 17,
     "metadata": {},
     "output_type": "execute_result"
    }
   ],
   "source": [
    "sentences"
   ]
  },
  {
   "cell_type": "code",
   "execution_count": null,
   "metadata": {},
   "outputs": [],
   "source": []
  }
 ],
 "metadata": {
  "kernelspec": {
   "display_name": "Python 3",
   "language": "python",
   "name": "python3"
  },
  "language_info": {
   "codemirror_mode": {
    "name": "ipython",
    "version": 3
   },
   "file_extension": ".py",
   "mimetype": "text/x-python",
   "name": "python",
   "nbconvert_exporter": "python",
   "pygments_lexer": "ipython3",
   "version": "3.6.5"
  }
 },
 "nbformat": 4,
 "nbformat_minor": 2
}
